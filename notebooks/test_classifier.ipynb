{
 "cells": [
  {
   "cell_type": "code",
   "execution_count": 1,
   "metadata": {},
   "outputs": [],
   "source": [
    "import gc\n",
    "import time\n",
    "\n",
    "import numpy as np\n",
    "import pandas as pd\n",
    "\n",
    "from doc_simp.models.classification import *"
   ]
  },
  {
   "cell_type": "code",
   "execution_count": 2,
   "metadata": {
    "scrolled": true
   },
   "outputs": [
    {
     "name": "stderr",
     "output_type": "stream",
     "text": [
      "Some weights of the model checkpoint at roberta-base were not used when initializing RobertaForSequenceClassification: ['lm_head.bias', 'lm_head.dense.weight', 'lm_head.dense.bias', 'lm_head.layer_norm.weight', 'lm_head.layer_norm.bias', 'lm_head.decoder.weight', 'roberta.pooler.dense.weight', 'roberta.pooler.dense.bias']\n",
      "- This IS expected if you are initializing RobertaForSequenceClassification from the checkpoint of a model trained on another task or with another architecture (e.g. initializing a BertForSequenceClassification model from a BertForPreTraining model).\n",
      "- This IS NOT expected if you are initializing RobertaForSequenceClassification from the checkpoint of a model that you expect to be exactly identical (initializing a BertForSequenceClassification model from a BertForSequenceClassification model).\n",
      "Some weights of RobertaForSequenceClassification were not initialized from the model checkpoint at roberta-base and are newly initialized: ['classifier.dense.weight', 'classifier.dense.bias', 'classifier.out_proj.weight', 'classifier.out_proj.bias']\n",
      "You should probably TRAIN this model on a down-stream task to be able to use it for predictions and inference.\n"
     ]
    }
   ],
   "source": [
    "# model_loc = \"/media/liam/data2/simp_clf_ckps/1baa289p/checkpoints/epoch=2.ckpt\" # exp4 downsamp data bert-base\n",
    "model_loc = \"/media/liam/data2/simp_clf_ckps/zw9dw7hd/checkpoints/epoch=3.ckpt\" # exp4 downsamp data roberta-base\n",
    "model = LightningBert.load_from_checkpoint(model_loc, model_type=\"roberta\").to(\"cuda\").eval()"
   ]
  },
  {
   "cell_type": "code",
   "execution_count": 3,
   "metadata": {},
   "outputs": [],
   "source": [
    "# test_set = pd.read_csv(\"/media/liam/data2/discourse_data/muss/muss_trees.csv\")\n",
    "# test_set = pd.read_csv(\"/media/liam/data2/discourse_data/wikisplit/wikisplit_trees.csv\")\n",
    "# test_set = pd.read_csv(\"/media/liam/data2/philtexts/philtext_sents.csv\")\n",
    "# test_set = pd.read_csv(\"/media/liam/data2/wikilarge/wikilarge_train.csv\")\n",
    "# test_set = pd.read_csv(\"/media/liam/data2/simp_data/wiki-auto/full_with_split/train.csv\")\n",
    "# test_set = pd.read_csv(\"/media/liam/data2/simp_data/newsela-auto/newsela-auto/ACL2020/train_joined.csv\")\n",
    "\n",
    "test_set = pd.read_csv(\"/media/liam/data2/discourse_data/simp_clf_data/split_clf_valid_exp4.csv\")\n",
    "input_col = \"complex\"\n",
    "max_samples = None\n",
    "chunk_count = 1"
   ]
  },
  {
   "cell_type": "code",
   "execution_count": 4,
   "metadata": {},
   "outputs": [],
   "source": [
    "# perform prediction in batches\n",
    "preds = []\n",
    "for i, chunk in enumerate(np.array_split(test_set, chunk_count)):\n",
    "    preds_i = run_classifier(model, chunk, input_col, max_samples=max_samples, device=\"cuda\")\n",
    "    preds += preds_i\n",
    "    assert(len(chunk) == len(preds_i))"
   ]
  },
  {
   "cell_type": "code",
   "execution_count": 5,
   "metadata": {},
   "outputs": [],
   "source": [
    "y_hats = []\n",
    "correct = []\n",
    "for i, row in test_set[:max_samples].iterrows():\n",
    "    logits = preds[i]\n",
    "    pred = logits.argmax()\n",
    "    y_hats.append(int(pred))\n",
    "    correct.append(int(pred) == int(row.label))"
   ]
  },
  {
   "cell_type": "code",
   "execution_count": 6,
   "metadata": {},
   "outputs": [
    {
     "name": "stdout",
     "output_type": "stream",
     "text": [
      "Distribution of predicted labels:\n",
      "1    7139\n",
      "2    6943\n",
      "3    6551\n",
      "0    3367\n",
      "Name: pred, dtype: int64\n"
     ]
    }
   ],
   "source": [
    "test_set[\"pred\"] = y_hats\n",
    "print(\"Distribution of predicted labels:\")\n",
    "print(test_set.pred.value_counts())"
   ]
  },
  {
   "cell_type": "code",
   "execution_count": 7,
   "metadata": {},
   "outputs": [
    {
     "name": "stdout",
     "output_type": "stream",
     "text": [
      "Accuracy of model: 0.936125\n",
      "Accuracies per label:\n",
      "\t0: 0.8131548311990687\n",
      "\t1: 0.9297639608520437\n",
      "\t2: 0.9634163701067615\n",
      "\t3: 0.9778485813988772\n"
     ]
    }
   ],
   "source": [
    "test_set[\"correct\"] = correct\n",
    "\n",
    "print(f\"Accuracy of model: {sum(correct)/len(y_hats)}\")\n",
    "print(\"Accuracies per label:\")\n",
    "for label in sorted(test_set.label.unique()):\n",
    "    items = test_set[test_set.label == label]\n",
    "    print(f\"\\t{label}: {sum(items.correct)/len(items)}\")"
   ]
  },
  {
   "cell_type": "code",
   "execution_count": 8,
   "metadata": {},
   "outputs": [
    {
     "data": {
      "text/plain": [
       "[Text(0.5, 12.5, 'Predicted label'),\n",
       " Text(30.5, 0.5, 'True label'),\n",
       " Text(0.5, 1.0, 'Operation Classification')]"
      ]
     },
     "execution_count": 8,
     "metadata": {},
     "output_type": "execute_result"
    },
    {
     "data": {
      "image/png": "[encoded data removed]",
      "text/plain": [
       "<Figure size 432x288 with 2 Axes>"
      ]
     },
     "metadata": {},
     "output_type": "display_data"
    }
   ],
   "source": [
    "import numpy as np; np.random.seed(0)\n",
    "import seaborn as sns; sns.set_theme()\n",
    "\n",
    "# construct confusion matrix\n",
    "conf_mat = np.zeros((4, 4))\n",
    "for label in sorted(test_set.label.unique()):\n",
    "    items = test_set[test_set.label == label]\n",
    "    counts = items.pred.value_counts()\n",
    "    for i, c in counts.iteritems():\n",
    "        conf_mat[label, i] = c / len(items)\n",
    "\n",
    "ax = sns.heatmap(conf_mat, annot=True, cmap=\"Reds\")\n",
    "ax.set(xlabel='Predicted label', ylabel='True label', title=\"Operation Classification\")"
   ]
  },
  {
   "cell_type": "code",
   "execution_count": null,
   "metadata": {},
   "outputs": [],
   "source": []
  }
 ],
 "metadata": {
  "kernelspec": {
   "display_name": "Python 3",
   "language": "python",
   "name": "python3"
  },
  "language_info": {
   "codemirror_mode": {
    "name": "ipython",
    "version": 3
   },
   "file_extension": ".py",
   "mimetype": "text/x-python",
   "name": "python",
   "nbconvert_exporter": "python",
   "pygments_lexer": "ipython3",
   "version": "3.7.9"
  }
 },
 "nbformat": 4,
 "nbformat_minor": 4
}
